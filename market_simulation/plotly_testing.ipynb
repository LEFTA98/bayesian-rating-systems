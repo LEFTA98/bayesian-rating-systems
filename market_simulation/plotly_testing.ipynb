{
 "cells": [
  {
   "cell_type": "markdown",
   "id": "90fe2fac-4919-4da9-8efc-5b8de04af654",
   "metadata": {},
   "source": [
    "# Testing notebook\n",
    "\n",
    "This notebook contains all the tools you need to test out the `BayesianRatingSystems` package. Just "
   ]
  },
  {
   "cell_type": "code",
   "execution_count": 1,
   "id": "e51c661e-e27a-4686-a29f-a13500ea8b42",
   "metadata": {},
   "outputs": [],
   "source": [
    "%load_ext autoreload\n",
    "%autoreload 2"
   ]
  },
  {
   "cell_type": "code",
   "execution_count": 2,
   "id": "e7762bd4-560e-4ad7-8094-3be0d472becd",
   "metadata": {},
   "outputs": [],
   "source": [
    "import plotly.graph_objects as go\n",
    "import plotly.express as px\n",
    "\n",
    "import dash\n",
    "from jupyter_dash import JupyterDash\n",
    "from dash import Dash, html, dcc, Input, Output\n",
    "\n",
    "import pandas as pd\n",
    "import numpy as np\n",
    "from market_simulation import BayesianRatingsManager\n",
    "import copy\n",
    "import pyarrow\n",
    "\n",
    "from sklearn.model_selection import train_test_split"
   ]
  },
  {
   "cell_type": "code",
   "execution_count": 3,
   "id": "79b2977f-9b93-4dab-8e2a-c26f7add5c2f",
   "metadata": {},
   "outputs": [
    {
     "name": "stdout",
     "output_type": "stream",
     "text": [
      "auto-detecting ratings data style.\n",
      "detected ratings type: discrete\n"
     ]
    },
    {
     "data": {
      "text/html": [
       "<div>\n",
       "<style scoped>\n",
       "    .dataframe tbody tr th:only-of-type {\n",
       "        vertical-align: middle;\n",
       "    }\n",
       "\n",
       "    .dataframe tbody tr th {\n",
       "        vertical-align: top;\n",
       "    }\n",
       "\n",
       "    .dataframe thead th {\n",
       "        text-align: right;\n",
       "    }\n",
       "</style>\n",
       "<table border=\"1\" class=\"dataframe\">\n",
       "  <thead>\n",
       "    <tr style=\"text-align: right;\">\n",
       "      <th></th>\n",
       "      <th>Hotel ID</th>\n",
       "      <th>User ID</th>\n",
       "      <th>Overall Rating</th>\n",
       "    </tr>\n",
       "  </thead>\n",
       "  <tbody>\n",
       "    <tr>\n",
       "      <th>0</th>\n",
       "      <td>100504</td>\n",
       "      <td>selizabethm</td>\n",
       "      <td>5</td>\n",
       "    </tr>\n",
       "    <tr>\n",
       "      <th>1</th>\n",
       "      <td>100504</td>\n",
       "      <td>IndieLady</td>\n",
       "      <td>4</td>\n",
       "    </tr>\n",
       "    <tr>\n",
       "      <th>2</th>\n",
       "      <td>100504</td>\n",
       "      <td>Hilobb</td>\n",
       "      <td>4</td>\n",
       "    </tr>\n",
       "    <tr>\n",
       "      <th>3</th>\n",
       "      <td>100504</td>\n",
       "      <td>Chiantigirl24</td>\n",
       "      <td>5</td>\n",
       "    </tr>\n",
       "    <tr>\n",
       "      <th>4</th>\n",
       "      <td>100504</td>\n",
       "      <td>hothearted</td>\n",
       "      <td>5</td>\n",
       "    </tr>\n",
       "  </tbody>\n",
       "</table>\n",
       "</div>"
      ],
      "text/plain": [
       "   Hotel ID        User ID  Overall Rating\n",
       "0    100504    selizabethm               5\n",
       "1    100504      IndieLady               4\n",
       "2    100504         Hilobb               4\n",
       "3    100504  Chiantigirl24               5\n",
       "4    100504     hothearted               5"
      ]
     },
     "execution_count": 3,
     "metadata": {},
     "output_type": "execute_result"
    }
   ],
   "source": [
    "sim = BayesianRatingsManager()\n",
    "\n",
    "# put in your own data below...\n",
    "\n",
    "example_df = pd.read_csv('tripadvisor-numeric.dat', on_bad_lines='skip')\n",
    "# specify product column and rating\n",
    "sim.add_data(example_df, product_col='Hotel ID', ratings_col='Overall Rating', rng=1729)\n",
    "example_df.head()[['Hotel ID', 'User ID', 'Overall Rating']]"
   ]
  },
  {
   "cell_type": "code",
   "execution_count": 4,
   "id": "629f556a-4bb8-439e-ae53-4c99d14a066a",
   "metadata": {},
   "outputs": [
    {
     "name": "stdout",
     "output_type": "stream",
     "text": [
      "upsampling task down to 20 products complete\n"
     ]
    }
   ],
   "source": [
    "# if you have more than 20 products, upsampling the dataset down to 20 is recommended\n",
    "sim.upsample(20)"
   ]
  },
  {
   "cell_type": "code",
   "execution_count": 5,
   "id": "affbf536-189d-4ab8-b967-69570d02d538",
   "metadata": {},
   "outputs": [
    {
     "name": "stdout",
     "output_type": "stream",
     "text": [
      "prior fit complete!\n",
      "prior type: Dirichlet, with weights [0 1 2 3 4 5]\n"
     ]
    },
    {
     "data": {
      "text/plain": [
       "array([0.74829848, 1.12643731, 1.55924861, 2.12635119, 4.8970427 ,\n",
       "       4.39947131])"
      ]
     },
     "execution_count": 5,
     "metadata": {},
     "output_type": "execute_result"
    }
   ],
   "source": [
    "sim.fit_prior()"
   ]
  },
  {
   "cell_type": "code",
   "execution_count": 6,
   "id": "00f2dda7-73b9-49d7-b1b6-71c75068ac31",
   "metadata": {},
   "outputs": [
    {
     "name": "stdout",
     "output_type": "stream",
     "text": [
      "outputs cleared.\n"
     ]
    },
    {
     "name": "stderr",
     "output_type": "stream",
     "text": [
      "Simulation progress:   0%|                                                                                                                                                            | 0/6 [00:00<?, ?it/s][Parallel(n_jobs=-1)]: Using backend LokyBackend with 8 concurrent workers.\n",
      "Simulation progress:  33%|█████████████████████████████████████████████████▎                                                                                                  | 2/6 [01:27<02:24, 36.06s/it][Parallel(n_jobs=-1)]: Done   2 out of   6 | elapsed:  1.5min remaining:  2.9min\n",
      "Simulation progress:  50%|██████████████████████████████████████████████████████████████████████████                                                                          | 3/6 [01:27<00:58, 19.65s/it][Parallel(n_jobs=-1)]: Done   3 out of   6 | elapsed:  1.5min remaining:  1.5min\n",
      "Simulation progress:  67%|██████████████████████████████████████████████████████████████████████████████████████████████████▋                                                 | 4/6 [01:27<00:23, 11.97s/it][Parallel(n_jobs=-1)]: Done   4 out of   6 | elapsed:  1.5min remaining:   43.9s\n",
      "Simulation progress:  83%|███████████████████████████████████████████████████████████████████████████████████████████████████████████████████████████▎                        | 5/6 [01:28<00:07,  7.80s/it][Parallel(n_jobs=-1)]: Done   6 out of   6 | elapsed:  1.5min remaining:    0.0s\n",
      "[Parallel(n_jobs=-1)]: Done   6 out of   6 | elapsed:  1.5min finished\n",
      "Simulation progress: 100%|████████████████████████████████████████████████████████████████████████████████████████████████████████████████████████████████████████████████████| 6/6 [01:28<00:00, 14.72s/it]"
     ]
    },
    {
     "name": "stdout",
     "output_type": "stream",
     "text": [
      "Simulations complete.\n"
     ]
    },
    {
     "name": "stderr",
     "output_type": "stream",
     "text": [
      "\n"
     ]
    }
   ],
   "source": [
    "sim.clear_outputs()\n",
    "sim.run_simulations(timesteps=100000, rng=1729) # add a coverage warning if upsampling is needed"
   ]
  },
  {
   "cell_type": "code",
   "execution_count": 8,
   "id": "5d4052a8-8807-419e-9b5d-4d469f0bb18c",
   "metadata": {},
   "outputs": [
    {
     "data": {
      "image/png": "[encoded data removed]",
      "text/plain": [
       "<Figure size 864x432 with 1 Axes>"
      ]
     },
     "metadata": {
      "needs_background": "light"
     },
     "output_type": "display_data"
    },
    {
     "data": {
      "text/plain": [
       "<Figure size 432x288 with 0 Axes>"
      ]
     },
     "metadata": {},
     "output_type": "display_data"
    },
    {
     "data": {
      "image/png": "[encoded data removed]",
      "text/plain": [
       "<Figure size 1728x288 with 6 Axes>"
      ]
     },
     "metadata": {
      "needs_background": "light"
     },
     "output_type": "display_data"
    },
    {
     "data": {
      "text/plain": [
       "<Figure size 432x288 with 0 Axes>"
      ]
     },
     "metadata": {},
     "output_type": "display_data"
    }
   ],
   "source": [
    "sim.summary()"
   ]
  },
  {
   "cell_type": "code",
   "execution_count": 17,
   "id": "6fb6f0cb-5645-4f58-a7ed-fa58a0ebb65d",
   "metadata": {
    "tags": []
   },
   "outputs": [
    {
     "name": "stdout",
     "output_type": "stream",
     "text": [
      "eta value\n"
     ]
    },
    {
     "data": {
      "text/html": [
       "\n",
       "        <iframe\n",
       "            width=\"100%\"\n",
       "            height=\"650\"\n",
       "            src=\"http://127.0.0.1:8050/\"\n",
       "            frameborder=\"0\"\n",
       "            allowfullscreen\n",
       "        ></iframe>\n",
       "        "
      ],
      "text/plain": [
       "<IPython.lib.display.IFrame at 0x7fec18648ac0>"
      ]
     },
     "metadata": {},
     "output_type": "display_data"
    }
   ],
   "source": [
    "sim.get_simulation_level_interactive_view(notebook=True)"
   ]
  },
  {
   "cell_type": "code",
   "execution_count": 18,
   "id": "90eaeb6a-5bad-4bb3-b1e9-28d3c6265987",
   "metadata": {
    "tags": []
   },
   "outputs": [
    {
     "data": {
      "text/html": [
       "\n",
       "        <iframe\n",
       "            width=\"100%\"\n",
       "            height=\"650\"\n",
       "            src=\"http://127.0.0.1:8050/\"\n",
       "            frameborder=\"0\"\n",
       "            allowfullscreen\n",
       "        ></iframe>\n",
       "        "
      ],
      "text/plain": [
       "<IPython.lib.display.IFrame at 0x7fec18608520>"
      ]
     },
     "metadata": {},
     "output_type": "display_data"
    }
   ],
   "source": [
    "sim.get_product_level_interactive_view(notebook=True)"
   ]
  },
  {
   "cell_type": "markdown",
   "id": "ac74f8e4-6cc8-4346-b13a-a041b7c5b2b4",
   "metadata": {
    "jp-MarkdownHeadingCollapsed": true,
    "tags": []
   },
   "source": [
    "## scratch"
   ]
  },
  {
   "cell_type": "code",
   "execution_count": null,
   "id": "6970fe45-7613-42b2-9e0e-e34d0de9b62e",
   "metadata": {},
   "outputs": [],
   "source": [
    "weighting_data = []\n",
    "data_weights = sim._data_cleaner.weights\n",
    "columns = ['eta', 'prod'] + ['c'+str(item) for item in list(data_weights)]\n",
    "\n",
    "data = sim._get_interactive_data()[['eta', 'prod', 'true quality']].drop_duplicates()\n",
    "data2 = sim.get_simulation_data()\n",
    "\n",
    "for datadict in data2:\n",
    "    for (k1, k2) in datadict:\n",
    "        agg_ratings = np.zeros(len(data_weights))\n",
    "        for lifespan in datadict[(k1,k2)]:\n",
    "            agg_ratings += lifespan[-1] - lifespan[0]\n",
    "        d = {k:v for k, v in zip(columns, [[k2], [k1]] + [[item] for item in list(np.round(agg_ratings))])}\n",
    "\n",
    "        weighting_data.append(pd.DataFrame(d))\n",
    "    \n",
    "weighting_data = pd.concat(weighting_data)\n",
    "        \n",
    "data = data.merge(weighting_data, on=['eta', 'prod'])\n",
    "data = pd.wide_to_long(data, stubnames='c', i=['eta', 'prod', 'true quality'], j='rating').reset_index()"
   ]
  },
  {
   "cell_type": "code",
   "execution_count": null,
   "id": "30aa5c9b-338a-41b1-91d4-9d6852c14128",
   "metadata": {},
   "outputs": [],
   "source": [
    "mask = (data['eta'].isin(sorted(['0.001', '1']))) & (data['prod'].isin(sorted([310251, 252969])))"
   ]
  },
  {
   "cell_type": "code",
   "execution_count": null,
   "id": "de4e8461-dfce-4441-ba25-02fa75247ff7",
   "metadata": {},
   "outputs": [],
   "source": [
    "fig = px.bar(data[mask], x='rating', y='c', color='eta', barmode='group', text='prod')"
   ]
  },
  {
   "cell_type": "code",
   "execution_count": null,
   "id": "b32062dc-8a9a-451f-96c2-b97b3b665588",
   "metadata": {},
   "outputs": [],
   "source": [
    "eta_dropdown_options = sorted(list(data['eta'].unique()))\n",
    "prod_dropdown_options = sorted(list(data['prod'].unique()))"
   ]
  },
  {
   "cell_type": "code",
   "execution_count": null,
   "id": "a46f7fb3-2f59-4eae-b5f7-4867d40814ca",
   "metadata": {},
   "outputs": [],
   "source": [
    "cdmap = {k: v for k, v in zip(list(data['eta'].unique()),\n",
    "                              px.colors.qualitative.Alphabet[:len(data['eta'].unique())])}"
   ]
  },
  {
   "cell_type": "code",
   "execution_count": null,
   "id": "f11add3d-62d9-4d98-a514-efbd77865833",
   "metadata": {},
   "outputs": [],
   "source": [
    "cdmap"
   ]
  },
  {
   "cell_type": "code",
   "execution_count": null,
   "id": "a12e21bf-d52e-46fc-bf1c-00ed043a5798",
   "metadata": {},
   "outputs": [],
   "source": [
    "app = JupyterDash()\n",
    "\n",
    "app.layout = html.Div([\n",
    "    dcc.Graph(figure=fig, id='product_level_view'),\n",
    "    html.Div([\n",
    "        \"etas\",\n",
    "        dcc.Dropdown(\n",
    "            eta_dropdown_options,\n",
    "            [eta_dropdown_options[0]],\n",
    "            id=\"eta_dropdown\",\n",
    "            multi=True\n",
    "        )\n",
    "    ]),\n",
    "    html.Div([\n",
    "        \"products\",\n",
    "        dcc.Dropdown(\n",
    "            prod_dropdown_options,\n",
    "            [prod_dropdown_options[0]],\n",
    "            id=\"prod_dropdown\",\n",
    "            multi=True\n",
    "        ),\n",
    "    ]),\n",
    "])\n",
    "\n",
    "@app.callback(\n",
    "    Output('product_level_view', 'figure'),\n",
    "    Input('eta_dropdown', 'value'),\n",
    "    Input('prod_dropdown', 'value'))\n",
    "def update_figure(value_etas, value_products):\n",
    "    m = (data['eta'].isin(sorted(value_etas))) & (\n",
    "        data['prod'].isin(sorted(value_products)))\n",
    "\n",
    "    f = px.bar(data[m],\n",
    "               x='rating',\n",
    "               y='c',\n",
    "               color='eta',\n",
    "               barmode='group',\n",
    "               text='prod',\n",
    "               color_discrete_map=cdmap)\n",
    "\n",
    "    return f\n",
    "\n",
    "app.run_server(debug=True, use_reloader=False, mode='inline')"
   ]
  },
  {
   "cell_type": "code",
   "execution_count": null,
   "id": "f9dbb5ba-106a-41d8-ac61-12d2e26b72a6",
   "metadata": {},
   "outputs": [],
   "source": []
  },
  {
   "cell_type": "code",
   "execution_count": null,
   "id": "eba3183a-7a26-4caf-816e-6ed0d415ef65",
   "metadata": {},
   "outputs": [],
   "source": [
    "p = px.scatter(pd.DataFrame({'inconsistency': data[0], 'regret': data[1], 'eta': data[2]}),\n",
    "           x = 'inconsistency',\n",
    "           y = 'regret',\n",
    "           color = 'eta')"
   ]
  },
  {
   "cell_type": "code",
   "execution_count": null,
   "id": "b0fed6ae-b05d-45bd-b2cb-1eb4171a1940",
   "metadata": {},
   "outputs": [],
   "source": [
    "p.show()"
   ]
  },
  {
   "cell_type": "code",
   "execution_count": null,
   "id": "41bf45f4-bb6a-4844-b748-95fa8d3fd19c",
   "metadata": {},
   "outputs": [],
   "source": [
    "df = sim._get_simulation_level_interactive_data()\n",
    "df['rounded true quality'] = df['true quality'].round()\n",
    "df['rounded play ratio'] = (df['play ratio']*20).round()/20\n",
    "df = df.groupby(['eta', 'rounded true quality', 'rounded play ratio']).count().reset_index()[['eta', 'rounded true quality', 'rounded play ratio', 'play ratio']]"
   ]
  },
  {
   "cell_type": "code",
   "execution_count": null,
   "id": "61ed4147-2cd2-43b0-a90b-cc737e9c337f",
   "metadata": {},
   "outputs": [],
   "source": [
    "df.head()"
   ]
  },
  {
   "cell_type": "code",
   "execution_count": null,
   "id": "a6a16f41-396f-403a-afa4-42797739488d",
   "metadata": {},
   "outputs": [],
   "source": [
    "px.bar(df[df['eta']=='0.001'], x='rounded play ratio', y='play ratio', animation_frame='rounded true quality')"
   ]
  },
  {
   "cell_type": "code",
   "execution_count": null,
   "id": "1e56b1c9-1841-4747-9103-57764623d589",
   "metadata": {},
   "outputs": [],
   "source": [
    "eta_list = list(df['eta'].unique())\n",
    "dfs_to_plot = {}\n",
    "\n",
    "for eta in eta_list:\n",
    "    df_to_plot = df[df['eta']==eta]\n",
    "    to_add = []\n",
    "\n",
    "    for val in list(df['rounded play ratio'].unique()):\n",
    "        for rtq in list(df_to_plot['rounded true quality'].unique()):\n",
    "            if val not in df_to_plot[df_to_plot['rounded true quality']==rtq]['rounded play ratio']:\n",
    "                temp_df = pd.DataFrame({'eta': eta, \n",
    "                                        'rounded true quality': rtq, \n",
    "                                        'rounded play ratio': val, \n",
    "                                        'play ratio': 0}, index=[0])\n",
    "                to_add.append(temp_df)\n",
    "\n",
    "    df_to_plot = pd.concat(to_add + [df_to_plot])\n",
    "    \n",
    "    dfs_to_plot[eta] = df_to_plot\n",
    "    \n",
    "slider_min, slider_max = df['rounded true quality'].min(), df['rounded true quality'].max()"
   ]
  },
  {
   "cell_type": "code",
   "execution_count": null,
   "id": "85e632df-95ac-4ad9-bb9b-5092af3f3be9",
   "metadata": {},
   "outputs": [],
   "source": [
    "# df_to_plot=copy.deepcopy(dfs_to_plot[eta_list[0]])\n",
    "# df_to_plot = df_to_plot.sort_values('rounded true quality')\n",
    "# df_to_plot['rounded true quality'] = df_to_plot['rounded true quality'].astype(str)\n",
    "\n",
    "# cdmap = {k:v for k, v in zip(list(df_to_plot['rounded true quality'].unique()),\n",
    "#                      px.colors.qualitative.Alphabet[:len(df_to_plot['rounded true quality'].unique())])}\n",
    "\n",
    "# fig = px.bar(df_to_plot, \n",
    "#                 x='rounded play ratio', \n",
    "#                 y='play ratio', \n",
    "#                 color = 'rounded true quality',\n",
    "#                 color_discrete_map=copy.deepcopy(cdmap))\n",
    "\n",
    "# fig.update_xaxes(title='play ratio')\n",
    "# fig.update_yaxes(title='count')\n",
    "# fig.update_layout(barmode='stack')\n",
    "# app = JupyterDash()\n",
    "# app.layout = html.Div([\n",
    "#     dcc.Dropdown(eta_list, eta_list[0], id='eta_dropdown'),\n",
    "#     dcc.Graph(figure=fig,id='prior_level_view'),\n",
    "#     dcc.RangeSlider(slider_min, slider_max, 1, value=[slider_min, slider_max],id='rtq_slider')\n",
    "# ])\n",
    "\n",
    "# @app.callback(\n",
    "#     Output('prior_level_view', 'figure'),\n",
    "#     Input('eta_dropdown', 'value'),\n",
    "#     Input('rtq_slider', 'value'))\n",
    "# def update_figure(value_dropdown, value_slider):\n",
    "    \n",
    "#     df_to_plot=copy.deepcopy(dfs_to_plot[value_dropdown])\n",
    "#     df_to_plot = df_to_plot[df_to_plot['rounded true quality'].between(value_slider[0], value_slider[1])]\n",
    "#     df_to_plot = df_to_plot.sort_values('rounded true quality')\n",
    "#     df_to_plot['rounded true quality'] = df_to_plot['rounded true quality'].astype(str)\n",
    "\n",
    "#     fig = px.bar(df_to_plot, \n",
    "#                     x='rounded play ratio', \n",
    "#                     y='play ratio', \n",
    "#                     color = 'rounded true quality',\n",
    "#                     color_discrete_map=copy.deepcopy(cdmap))\n",
    "    \n",
    "\n",
    "#     return fig\n",
    "\n",
    "\n",
    "# print('eta value')\n",
    "\n",
    "# app.run_server(debug=True, use_reloader=False, mode='inline')"
   ]
  },
  {
   "cell_type": "code",
   "execution_count": null,
   "id": "b5c84835-773d-448c-b077-053247b512ed",
   "metadata": {},
   "outputs": [],
   "source": [
    "{k:v for k, v in zip(list(df['rounded true quality'].unique()),\n",
    "                     px.colors.qualitative.Alphabet[:len(df['rounded true quality'].unique())])}"
   ]
  },
  {
   "cell_type": "code",
   "execution_count": null,
   "id": "06aa5d9d-7b69-4b27-86c7-da4507d02c37",
   "metadata": {},
   "outputs": [],
   "source": [
    "# # emergency valve to kill the dash server\n",
    "\n",
    "# import os\n",
    "# import signal\n",
    "# os.kill(os.getpid(), signal.SIGTERM)"
   ]
  },
  {
   "cell_type": "code",
   "execution_count": null,
   "id": "23121aaa-8734-4c45-85c6-038ca103a615",
   "metadata": {},
   "outputs": [],
   "source": [
    "px.colors.qualitative.Alphabet"
   ]
  },
  {
   "cell_type": "code",
   "execution_count": null,
   "id": "0f5ddeb6-c8cc-40bd-a1f6-3b5ef89abc46",
   "metadata": {},
   "outputs": [],
   "source": []
  },
  {
   "cell_type": "code",
   "execution_count": null,
   "id": "7401593b-218b-4d94-9cf3-ce1e095c92ba",
   "metadata": {},
   "outputs": [],
   "source": []
  }
 ],
 "metadata": {
  "kernelspec": {
   "display_name": "Python 3 (ipykernel)",
   "language": "python",
   "name": "python3"
  },
  "language_info": {
   "codemirror_mode": {
    "name": "ipython",
    "version": 3
   },
   "file_extension": ".py",
   "mimetype": "text/x-python",
   "name": "python",
   "nbconvert_exporter": "python",
   "pygments_lexer": "ipython3",
   "version": "3.9.7"
  }
 },
 "nbformat": 4,
 "nbformat_minor": 5
}
